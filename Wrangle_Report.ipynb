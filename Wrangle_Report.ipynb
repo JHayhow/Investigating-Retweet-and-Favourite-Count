{
 "cells": [
  {
   "cell_type": "markdown",
   "metadata": {},
   "source": [
    "## Reporting: wrangle_report\n",
    "\n",
    "An overview of the wrangling process in the wrangling project.\n",
    "\n",
    "### Part One: Importing Data\n",
    "\n",
    "Three datasets had to be imported.\n",
    "\n",
    "1. The image predictions file was a tsv file and was imported using pd.read_csv.\n",
    "2. The twitter_archive_enhanced file was provided by Udacity and imported and unzipped using Python libraries.\n",
    "3. The additional Twitter data, tweet_json, required the json Python library and then was converted into a pandas dataframe by writing each JSON line one by one into the dataframe. The data was provided by Udacity as I could not obtain a login to a Twitter developer's account.\n",
    "\n",
    "### Part Two: Identifying Issues\n",
    "\n",
    "The following issues were highlighted and cleaned:\n",
    "\n",
    "#### Quality issues (and how they were cleaned)\n",
    "1. Retweeted images are present in twitter_archive_enhanced. These were dropped from the dataset by using the fact that un-retweeted images have entry 'nan' in the 'retweeted' column. These un-retweeted images were identified using the isnull() function and were the only images kept in the dataset.\n",
    "\n",
    "2. Non-descriptive headers on the relevant columns of data. These were renamed using df.rename().\n",
    "\n",
    "3. The relevant variable tweet id does not have the same names in tweet_json and twitter_archive_enhanced. It was renamed to 'tweet_id' using df.rename().\n",
    "\n",
    "4. Timestamp column in twitter_archive_enhanced is unparsed. Created_at column in tweet_json is unparsed. This was resolved by using the function pd.to_datetime.\n",
    "\n",
    "5. Column names timestamp and created_at do not match. These were renamed using df.rename().\n",
    "\n",
    "6. Decimals in the ratings have not been extracted properly. The ratings were extracted again from the tweets into a new column 'ratings'. The function str.extract(expand=True) was used. The regex expression (code suggested by a Udacity reviewer) represents any decimal of 1 or more digits in the numerator over an integer denominator. The regex expression is '?:\\d+\\.)?\\d+)\\/(\\d+)'. \n",
    "\n",
    "7. Dog names have not been correctly recorded. This was checked and removed when the dog columns were merged (see tidiness issue #2).\n",
    "\n",
    "8. Find and update incorrect ratings. This had to be done row by row. Most ratings should have a denominator of 10, so those without this denominator were selected. The full text of each tweet was viewed, by maximising the column width using pd.set_option('display.max_colwidth', None). Then incorrect ratings were corrected. Common mistakes included recording '24/7'as a rating, or recording a date as a rating.\n",
    "\n",
    "#### Tidiness issues (and how they were cleaned)\n",
    "1. The two files twitter_archive_enhanced and tweet_json are not combined into one file with all the relevant data. These were merged using df.merge().\n",
    "\n",
    "2. In twitter_archive_enhanced, the variable 'dog stage' is separated into four columns: 'doggo', 'floofer', 'pupper' and 'puppo'. These were combined by adding column strings together. This gave combinations of names, e.g., 'doggoNoneNoneNone'. Each combination was renamed appropriately, e.g. 'doggoNoneNoneNone' became 'doggo'. Some combinations involved more than one name, e.g. 'doggoNonepupperNone'. These were dropped as the intent was to examine tweets where the dog type was undisputed.\n"
   ]
  },
  {
   "cell_type": "markdown",
   "metadata": {},
   "source": [
    "### Storing the cleaned dataframe\n",
    "\n",
    "The dataframe was stored as a .csv file using pd.to_csv(). Index was set to False so that a new index column was not created."
   ]
  }
 ],
 "metadata": {
  "kernelspec": {
   "display_name": "Python 3",
   "language": "python",
   "name": "python3"
  },
  "language_info": {
   "codemirror_mode": {
    "name": "ipython",
    "version": 3
   },
   "file_extension": ".py",
   "mimetype": "text/x-python",
   "name": "python",
   "nbconvert_exporter": "python",
   "pygments_lexer": "ipython3",
   "version": "3.8.8"
  }
 },
 "nbformat": 4,
 "nbformat_minor": 2
}
